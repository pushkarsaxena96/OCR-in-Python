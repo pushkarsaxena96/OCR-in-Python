{
 "cells": [
  {
   "cell_type": "code",
   "execution_count": 2,
   "metadata": {},
   "outputs": [],
   "source": [
    "import pytesseract\n",
    "from PIL import Image"
   ]
  },
  {
   "cell_type": "code",
   "execution_count": 9,
   "metadata": {},
   "outputs": [],
   "source": [
    "pytesseract.pytesseract.tesseract_cmd = r'C:\\Program Files\\Tesseract-OCR\\tesseract.exe'"
   ]
  },
  {
   "cell_type": "code",
   "execution_count": 4,
   "metadata": {},
   "outputs": [],
   "source": [
    "img_file = \"data/page_01.jpg\"\n",
    "no_noise = \"temp/no_noise.jpg\""
   ]
  },
  {
   "cell_type": "code",
   "execution_count": 5,
   "metadata": {},
   "outputs": [],
   "source": [
    "img = Image.open(img_file)"
   ]
  },
  {
   "cell_type": "code",
   "execution_count": 10,
   "metadata": {},
   "outputs": [],
   "source": [
    "ocr_result = pytesseract.image_to_string(img)"
   ]
  },
  {
   "cell_type": "code",
   "execution_count": 11,
   "metadata": {},
   "outputs": [
    {
     "name": "stdout",
     "output_type": "stream",
     "text": [
      "\n"
     ]
    }
   ],
   "source": [
    "print(ocr_result)"
   ]
  },
  {
   "cell_type": "code",
   "execution_count": 12,
   "metadata": {},
   "outputs": [
    {
     "name": "stdout",
     "output_type": "stream",
     "text": [
      "“GABRIEL Meamall —\n",
      "\n",
      "On Easter morning in the year 1944, I took my six-year~old\n",
      "son by the hand and began walking from my home town toward the\n",
      "valleys and forests of the Carpathian mountains... For nearly\n",
      "eight months we livea in barns, attics and makeshift cabins. With\n",
      "the generous help of an unusually courageous man, we managed to\n",
      "survive Europe's greatest. fit of madness. Those who walked in\n",
      "the opposite direction on that Easter day were less fortunate.\n",
      "They were taken in trainloads to places whose once obscure names.\n",
      "are now, and forever will be, synonymous with terror, evil and\n",
      "death. What follows is our story of survival told to the best\n",
      "of my ability, in plain, simple language.\n",
      "\n",
      "In March of 1944 the SS troops took over the internal. affeirs\n",
      "of Hungary and proceeded to organize the deportation of the Tews.\n",
      "fo the Nazis this vas a routine assignment; within hours all leeal\n",
      "efficials were informed of operational plans. The high commend\n",
      "issted a directive designed to placate Jewish fears and induce\n",
      "cooperation. It was announced that the Jews. would be. shipped to\n",
      "Poland as an emergency labor force and that they were only being\n",
      "drafted for temporary work. There were many who believed. this :\n",
      "version. Others, less credulous, resigned themselves and. hoped for\n",
      "the best. Still others began to make plans for escape, By April\n",
      "13 the Hungarian Jews were being rounded up from all over the i\n",
      "‘country in what was once a huge prick factory. The rest le well\n",
      "known, . :\n",
      "\n",
      "I was working in Ungvar and usually came home on weeleride.\n",
      "\n",
      "At that time it was no longer possible for a Jew to travel freely.\n",
      "ye:\n",
      "\n",
      "\n"
     ]
    }
   ],
   "source": [
    "no_noise_img = Image.open(no_noise)\n",
    "ocr_result = pytesseract.image_to_string(no_noise_img)\n",
    "print(ocr_result)"
   ]
  },
  {
   "cell_type": "code",
   "execution_count": null,
   "metadata": {},
   "outputs": [],
   "source": []
  },
  {
   "cell_type": "code",
   "execution_count": null,
   "metadata": {},
   "outputs": [],
   "source": []
  }
 ],
 "metadata": {
  "kernelspec": {
   "display_name": "Python 3",
   "language": "python",
   "name": "python3"
  },
  "language_info": {
   "codemirror_mode": {
    "name": "ipython",
    "version": 3
   },
   "file_extension": ".py",
   "mimetype": "text/x-python",
   "name": "python",
   "nbconvert_exporter": "python",
   "pygments_lexer": "ipython3",
   "version": "3.9.2"
  },
  "orig_nbformat": 4
 },
 "nbformat": 4,
 "nbformat_minor": 2
}
